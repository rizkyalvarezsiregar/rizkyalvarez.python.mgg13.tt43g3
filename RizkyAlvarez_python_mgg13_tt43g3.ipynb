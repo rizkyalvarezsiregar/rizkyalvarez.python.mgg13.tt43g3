{
  "nbformat": 4,
  "nbformat_minor": 0,
  "metadata": {
    "colab": {
      "name": "RizkyAlvarez.python.mgg13.tt43g3.ipynb",
      "provenance": [],
      "authorship_tag": "ABX9TyOxPfsQFOuI1V2qgbUjD0XO",
      "include_colab_link": true
    },
    "kernelspec": {
      "name": "python3",
      "display_name": "Python 3"
    }
  },
  "cells": [
    {
      "cell_type": "markdown",
      "metadata": {
        "id": "view-in-github",
        "colab_type": "text"
      },
      "source": [
        "<a href=\"https://colab.research.google.com/github/rizkyalvarezsiregar/rizkyalvarez.python.mgg13.tt43g3/blob/main/RizkyAlvarez_python_mgg13_tt43g3.ipynb\" target=\"_parent\"><img src=\"https://colab.research.google.com/assets/colab-badge.svg\" alt=\"Open In Colab\"/></a>"
      ]
    },
    {
      "cell_type": "markdown",
      "metadata": {
        "id": "N5hWBwZeinGa"
      },
      "source": [
        "\r\n",
        "Nama: Rizky Alvarez Siregar\r\n",
        "\r\n",
        "NIM: 1101174285\r\n",
        "\r\n",
        "Kelas : TT-43-G3 "
      ]
    },
    {
      "cell_type": "markdown",
      "metadata": {
        "id": "t60eyg8bi3J9"
      },
      "source": [
        "**GRAFIK 1 FREKUENSI 1800MHz**"
      ]
    },
    {
      "cell_type": "code",
      "metadata": {
        "id": "3MxV_TbCizLG"
      },
      "source": [
        "import numpy as np\r\n",
        "import matplotlib.pyplot as plt"
      ],
      "execution_count": 2,
      "outputs": []
    },
    {
      "cell_type": "code",
      "metadata": {
        "id": "LQn6tBYgjJwV"
      },
      "source": [
        "def cos(frek,tipe,ht,hr,d):\r\n",
        "  #frek = frekuensi (MHz)\r\n",
        "  #tipe = urban, suburban, open\r\n",
        "  #ht = tinggi tower (meter)\r\n",
        "  #hr = tinggi user (meter)\r\n",
        "  #d = jarak (meter)\r\n",
        "    if frek in range(150,1501):\r\n",
        "        Ca=69.55\r\n",
        "        Cb=26.16\r\n",
        "    elif frek in range(1501,2001):\r\n",
        "        Ca=46.3\r\n",
        "        Cb=33.9\r\n",
        "    \r\n",
        "    if tipe=='urban' :\r\n",
        "        Cm=0\r\n",
        "    elif tipe=='suburban' :\r\n",
        "        Cm= -2*((np.log10((frek/28)**2))-5.4)\r\n",
        "    elif tipe=='open' :\r\n",
        "        Cm= -4.78*(np.log10(frek))+18.33*(np.log10(frek))-40.94\r\n",
        "    else :\r\n",
        "        Cm='tipe salah'\r\n",
        "    \r\n",
        "    ahr = (1.1*np.log10(frek)-0.7)*hr-(1.56*np.log10(frek)-1.8)\r\n",
        "    Lp = Ca+(Cb*np.log10(frek))-(13.83*np.log(ht))-ahr+((44.9-6.55*np.log10(ht))*np.log10(d))-Cm\r\n",
        "    \r\n",
        "    return Lp"
      ],
      "execution_count": 5,
      "outputs": []
    },
    {
      "cell_type": "code",
      "metadata": {
        "id": "mSO-8KqejPO8"
      },
      "source": [
        "f=1800 #MHz\r\n",
        "loc='urban'\r\n",
        "loc2='suburban'\r\n",
        "loc3='open'\r\n",
        "tower=80 #m\r\n",
        "user=1.5 #m\r\n",
        "dmin=200 #m\r\n",
        "dmax=700 #m\r\n",
        "N=200 #titik\r\n",
        "d=np.random.randint(dmin,dmax,N)"
      ],
      "execution_count": 8,
      "outputs": []
    },
    {
      "cell_type": "code",
      "metadata": {
        "colab": {
          "base_uri": "https://localhost:8080/"
        },
        "id": "kanp9T34jZMF",
        "outputId": "3f2ccf5d-9bdf-49b6-ed86-7f03df75cae9"
      },
      "source": [
        "print (d)"
      ],
      "execution_count": 9,
      "outputs": [
        {
          "output_type": "stream",
          "text": [
            "[513 664 515 693 635 319 429 413 626 453 240 432 400 339 290 614 567 667\n",
            " 634 594 604 230 643 516 227 530 650 259 386 403 429 208 556 642 638 377\n",
            " 584 411 226 237 400 212 350 551 592 482 200 408 558 489 347 379 391 405\n",
            " 457 467 227 546 244 608 561 210 506 318 673 546 501 361 608 658 347 532\n",
            " 257 495 253 640 570 452 547 614 471 671 593 213 570 406 230 652 351 623\n",
            " 309 452 299 570 274 242 317 329 384 401 382 287 550 354 205 377 244 436\n",
            " 282 224 644 587 569 455 604 364 232 399 311 404 407 581 242 586 622 648\n",
            " 549 217 447 552 349 622 525 627 663 596 560 246 510 652 451 375 228 396\n",
            " 418 535 477 621 532 672 698 220 562 647 483 318 328 572 483 548 250 516\n",
            " 340 360 573 631 689 657 635 390 217 444 473 633 578 688 212 558 588 311\n",
            " 651 543 316 291 644 518 677 242 556 211 287 575 538 456 638 560 557 639\n",
            " 229 370]\n"
          ],
          "name": "stdout"
        }
      ]
    },
    {
      "cell_type": "code",
      "metadata": {
        "id": "imblWhjNjb-q"
      },
      "source": [
        "LpUrban=cos(f,loc,tower,user,d)\r\n",
        "LpSuburban=cos(f,loc2,tower,user,d)\r\n",
        "LpOpen=cos(f,loc3,tower,user,d)"
      ],
      "execution_count": 11,
      "outputs": []
    },
    {
      "cell_type": "code",
      "metadata": {
        "id": "22pVu_B4jg6o"
      },
      "source": [
        "d_sort=d[np.argsort(d)]\r\n",
        "Urban_sort=LpUrban[np.argsort(d)]\r\n",
        "Suburban_sort=LpSuburban[np.argsort(d)]\r\n",
        "Open_sort=LpOpen[np.argsort(d)]"
      ],
      "execution_count": 14,
      "outputs": []
    },
    {
      "cell_type": "code",
      "metadata": {
        "colab": {
          "base_uri": "https://localhost:8080/",
          "height": 295
        },
        "id": "QyQpTg3qjnCp",
        "outputId": "b788156b-3de6-4c27-f6e0-ce4d862cb11d"
      },
      "source": [
        "plt.figure()\r\n",
        "plt.plot(d_sort,Urban_sort,'r-', label='Urban')\r\n",
        "plt.plot(d_sort,Suburban_sort,'k-', label='Suburban')\r\n",
        "plt.plot(d_sort,Open_sort,'g-', label='Open')\r\n",
        "plt.legend()\r\n",
        "plt.title('Frekuensi 1800 MHz')\r\n",
        "plt.xlabel('Jarak (m)')\r\n",
        "plt.ylabel('Path Loss (dB)')\r\n",
        "plt.show()"
      ],
      "execution_count": 15,
      "outputs": [
        {
          "output_type": "display_data",
          "data": {
            "image/png": "[encoded data removed]",
            "text/plain": [
              "<Figure size 432x288 with 1 Axes>"
            ]
          },
          "metadata": {
            "tags": [],
            "needs_background": "light"
          }
        }
      ]
    },
    {
      "cell_type": "markdown",
      "metadata": {
        "id": "G5L8kcf8jt1G"
      },
      "source": [
        "**GRAFIK 2 MODEL URBAN**"
      ]
    },
    {
      "cell_type": "code",
      "metadata": {
        "id": "7Io0p0o0jqp1"
      },
      "source": [
        "f=700 #MHz\r\n",
        "f2=900 #MHz\r\n",
        "f3=1800 #MHz\r\n",
        "loc='urban'\r\n",
        "tower=80 #m\r\n",
        "user=1.5 #m\r\n",
        "dmin=200 #m\r\n",
        "dmax=700 #m\r\n",
        "N=200 #titik\r\n",
        "d=np.random.randint(dmin,dmax,N)"
      ],
      "execution_count": 16,
      "outputs": []
    },
    {
      "cell_type": "code",
      "metadata": {
        "id": "fZEUGIHzj0u4"
      },
      "source": [
        "LpUrban=cos(f,loc,tower,user,d)\r\n",
        "LpUrban2=cos(f2,loc,tower,user,d)\r\n",
        "LpUrban3=cos(f3,loc,tower,user,d)"
      ],
      "execution_count": 17,
      "outputs": []
    },
    {
      "cell_type": "code",
      "metadata": {
        "id": "d2kVUkgAj5_G"
      },
      "source": [
        "d_sort=d[np.argsort(d)]\r\n",
        "Urban_sort=LpUrban[np.argsort(d)]\r\n",
        "Urban2_sort=LpUrban2[np.argsort(d)]\r\n",
        "Urban3_sort=LpUrban3[np.argsort(d)]"
      ],
      "execution_count": 18,
      "outputs": []
    },
    {
      "cell_type": "code",
      "metadata": {
        "colab": {
          "base_uri": "https://localhost:8080/",
          "height": 295
        },
        "id": "myb7bmTIj9Z2",
        "outputId": "1710f7a8-e1ec-40a5-d465-9b7e8c015fc6"
      },
      "source": [
        "plt.figure()\r\n",
        "plt.plot(d_sort,Urban_sort,'r-', label='700 Mhz')\r\n",
        "plt.plot(d_sort,Urban2_sort,'k-', label='900 Mhz')\r\n",
        "plt.plot(d_sort,Urban3_sort,'g-', label='1800 Mhz')\r\n",
        "plt.legend()\r\n",
        "plt.title('Model Urban')\r\n",
        "plt.xlabel('Jarak (m)')\r\n",
        "plt.ylabel('Path Loss (dB)')\r\n",
        "plt.show()"
      ],
      "execution_count": 19,
      "outputs": [
        {
          "output_type": "display_data",
          "data": {
            "image/png": "[encoded data removed]",
            "text/plain": [
              "<Figure size 432x288 with 1 Axes>"
            ]
          },
          "metadata": {
            "tags": [],
            "needs_background": "light"
          }
        }
      ]
    }
  ]
}